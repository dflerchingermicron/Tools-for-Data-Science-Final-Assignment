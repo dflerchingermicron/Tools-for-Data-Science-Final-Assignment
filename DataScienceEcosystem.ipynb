{
 "cells": [
  {
   "cell_type": "markdown",
   "id": "97557730-75d8-464f-aa96-56f027ade674",
   "metadata": {},
   "source": [
    "# Data Science Tools and Ecosystem"
   ]
  },
  {
   "cell_type": "markdown",
   "id": "d8907119-528d-4b26-b7e7-198e16940943",
   "metadata": {},
   "source": [
    "In this notebook, Data Science Tools and Ecosystem are summarized."
   ]
  },
  {
   "cell_type": "markdown",
   "id": "b28d3716-ed05-42ea-996a-0fac48f1d088",
   "metadata": {},
   "source": [
    "** Objectives ** \n",
    "*  List popular languages for data science\n",
    "*  Use markdown cells\n",
    "*  list commonly used libraries"
   ]
  },
  {
   "cell_type": "markdown",
   "id": "bdad7581-9be3-4f4e-aea1-2f1b34f037b7",
   "metadata": {},
   "source": [
    "Some of the popular languages that data scientists use are:\n",
    "1. python\n",
    "2. R\n",
    "3. SQL"
   ]
  },
  {
   "cell_type": "markdown",
   "id": "d9992f4f-f67a-4bae-9bc0-2c6aefe41171",
   "metadata": {},
   "source": [
    "Some of the commonly used libraries used by data scientists include:\n",
    "1. Pandas\n",
    "2. NumPy\n",
    "3. TensorFlow"
   ]
  },
  {
   "cell_type": "markdown",
   "id": "df98daf1-c953-4736-9a63-3ac0eff31181",
   "metadata": {},
   "source": [
    "| Data science tools: |\n",
    "| --- |\n",
    "| RStudio |\n",
    "| GitHub |\n",
    "| Anaconda |"
   ]
  },
  {
   "cell_type": "markdown",
   "id": "3573819a-8a73-4f78-ac75-bbf2686e7d8e",
   "metadata": {},
   "source": [
    "### Below are a few examples of evaluating arithmetic expressions in python"
   ]
  },
  {
   "cell_type": "code",
   "execution_count": 1,
   "id": "8bd35ce5-6614-412f-96fc-6b025646529b",
   "metadata": {},
   "outputs": [
    {
     "data": {
      "text/plain": [
       "17"
      ]
     },
     "execution_count": 1,
     "metadata": {},
     "output_type": "execute_result"
    }
   ],
   "source": [
    "(3*4)+5"
   ]
  },
  {
   "cell_type": "code",
   "execution_count": 2,
   "id": "2eec3a97-bcdc-435f-897e-795100bab408",
   "metadata": {},
   "outputs": [
    {
     "data": {
      "text/plain": [
       "3.3333333333333335"
      ]
     },
     "execution_count": 2,
     "metadata": {},
     "output_type": "execute_result"
    }
   ],
   "source": [
    "# This code will convert 200 minutes to hours by dividing by 60\n",
    "200/60"
   ]
  },
  {
   "cell_type": "markdown",
   "id": "0043eef6-45d7-4f97-95d7-6c923e092e9a",
   "metadata": {},
   "source": [
    "## Author\n",
    "dflerchinger"
   ]
  },
  {
   "cell_type": "code",
   "execution_count": null,
   "id": "1427787e-8865-4c02-98c9-1f4c0ae1a290",
   "metadata": {},
   "outputs": [],
   "source": []
  }
 ],
 "metadata": {
  "kernelspec": {
   "display_name": "Python 3 (ipykernel)",
   "language": "python",
   "name": "python3"
  },
  "language_info": {
   "codemirror_mode": {
    "name": "ipython",
    "version": 3
   },
   "file_extension": ".py",
   "mimetype": "text/x-python",
   "name": "python",
   "nbconvert_exporter": "python",
   "pygments_lexer": "ipython3",
   "version": "3.11.9"
  }
 },
 "nbformat": 4,
 "nbformat_minor": 5
}
